{
 "cells": [
  {
   "cell_type": "markdown",
   "metadata": {},
   "source": [
    "## Spotify API Artist Search (Example - Manually Selected Artists)\n",
    "### This script calls the Spotify API, searches for artists, classifies them by genre, and plots recommendations\n",
    "### Author: @ajantonik-personal (Anthony J Antonik)\n",
    "### Date: 2020-04-25"
   ]
  },
  {
   "cell_type": "markdown",
   "metadata": {},
   "source": [
    "#### Select list of artists to search for & whether to make recommendations and graph results"
   ]
  },
  {
   "cell_type": "code",
   "execution_count": 1,
   "metadata": {},
   "outputs": [
    {
     "name": "stdout",
     "output_type": "stream",
     "text": [
      "Artists: 'David Bowie', 'The Smiths', 'The Cure'\n",
      "Recommend artists? True\n",
      "Graph results? True\n"
     ]
    }
   ],
   "source": [
    "# Populate list with artists to search for\n",
    "# NOTE: Set to 'FROM_FILE' to generate list from .txt\n",
    "ARTIST_LIST = ['David Bowie', 'The Smiths', 'The Cure']\n",
    "\n",
    "# Choose whether to analyze artist similarities and make recommendations\n",
    "# NOTE: Only set to True for 2 or more artists\n",
    "RECOMMEND_ARTISTS = True\n",
    "\n",
    "# Choose whether to display graphs of results\n",
    "# NOTE: Only recommended for 20 or fewer artists \n",
    "GRAPH_RESULTS = True\n",
    "\n",
    "if ARTIST_LIST == ['FROM_FILE']:\n",
    "    ARTIST_LIST_STR = 'To be read from file'\n",
    "else:\n",
    "    ARTIST_LIST_STR = str(ARTIST_LIST).replace(\"[\", \"\").replace(\"]\", \"\")\n",
    "    if len(ARTIST_LIST) < 2:\n",
    "        RECOMMEND_ARTISTS = False\n",
    "        GRAPH_RESULTS = GRAPH_RESULTS\n",
    "    elif len(ARTIST_LIST) > 20:\n",
    "        RECOMMEND_ARTISTS = RECOMMEND_ARTISTS\n",
    "        GRAPH_RESULTS = False\n",
    "    else:\n",
    "        RECOMMEND_ARTISTS = RECOMMEND_ARTISTS\n",
    "        GRAPH_RESULTS = GRAPH_RESULTS\n",
    "\n",
    "print(\"Artists: {}\".format(ARTIST_LIST_STR))\n",
    "print(\"Recommend artists? {}\".format(RECOMMEND_ARTISTS))\n",
    "print(\"Graph results? {}\".format(GRAPH_RESULTS))"
   ]
  },
  {
   "cell_type": "markdown",
   "metadata": {},
   "source": [
    "#### Import modules"
   ]
  },
  {
   "cell_type": "code",
   "execution_count": 2,
   "metadata": {
    "scrolled": true
   },
   "outputs": [
    {
     "name": "stdout",
     "output_type": "stream",
     "text": [
      "Importing modules...\n",
      "SUCCESS: Modules imported\n"
     ]
    }
   ],
   "source": [
    "print(\"Importing modules...\")\n",
    "\n",
    "import csv\n",
    "import os\n",
    "\n",
    "import pandas as pd\n",
    "import requests.auth\n",
    "import matplotlib.pyplot as plt\n",
    "\n",
    "from IPython.display import display, HTML\n",
    "from textwrap import wrap\n",
    "from tqdm.notebook import tqdm\n",
    "\n",
    "# Change global module settings\n",
    "pd.options.display.float_format = '{:.0f}'.format\n",
    "%matplotlib inline\n",
    "\n",
    "print(\"SUCCESS: Modules imported\")"
   ]
  },
  {
   "cell_type": "markdown",
   "metadata": {},
   "source": [
    "#### Specify utility functions"
   ]
  },
  {
   "cell_type": "code",
   "execution_count": 3,
   "metadata": {},
   "outputs": [
    {
     "name": "stdout",
     "output_type": "stream",
     "text": [
      "Initializing utility functions...\n",
      "SUCCESS: Initialized utility functions\n"
     ]
    }
   ],
   "source": [
    "print(\"Initializing utility functions...\")\n",
    "\n",
    "class Utils:\n",
    "    \n",
    "    def __init__(self):\n",
    "        self.return_dict = {}\n",
    "        self.return_list = []\n",
    "    \n",
    "    def text_parse_dict(self, filepath, separator):\n",
    "        \"\"\"\n",
    "        Function to parse lines of text from a file into a dictionary\n",
    "        :param filepath: path to text file to be parsed\n",
    "        :param separator: string separating keynames from values in text file\n",
    "        :return return_dict: dictionary of keys, values from text file\n",
    "        \"\"\"\n",
    "        self.return_dict = {}\n",
    "        with open(os.path.expanduser(filepath), \"r\") as filetoparse:\n",
    "            lines = filetoparse.readlines()\n",
    "            for line in lines:\n",
    "                line = line.split(separator)\n",
    "                self.return_dict[line[0].replace(\" \", \"\")] = (\n",
    "                    line[1].replace(\"\\n\", \"\").replace(\" \", \"\")\n",
    "                )\n",
    "        return self.return_dict\n",
    "    \n",
    "    def text_parse_list(self, filepath):\n",
    "        \"\"\"\n",
    "        Function to parse lines of text from a file into a list\n",
    "        :param filepath: path to text file to be parsed\n",
    "        :return return_list: list of strings from text file\n",
    "        \"\"\"\n",
    "        with open(os.path.expanduser(filepath), \"r\") as filetoparse:\n",
    "            self.return_list = filetoparse.readlines()\n",
    "            for elem, clean in enumerate(self.return_list):\n",
    "                self.return_list[elem] = clean.replace(\"\\n\", \"\")\n",
    "        return self.return_list\n",
    "\n",
    "utils = Utils()\n",
    "\n",
    "print(\"SUCCESS: Initialized utility functions\")"
   ]
  },
  {
   "cell_type": "markdown",
   "metadata": {},
   "source": [
    "#### Set constants & variables"
   ]
  },
  {
   "cell_type": "code",
   "execution_count": 4,
   "metadata": {},
   "outputs": [
    {
     "name": "stdout",
     "output_type": "stream",
     "text": [
      "Artist count: 3\n",
      "Recommend artists? True\n",
      "Graph results? True\n"
     ]
    }
   ],
   "source": [
    "# Files containing spotify credentials, artists, & genres\n",
    "CREDS_FILE = os.environ['SPOTIFY_CREDS_FILE']\n",
    "GENRES_FILE = 'config/spotify_genres.txt'\n",
    "ARTISTS_FILE = 'config/spotify_artists.txt'\n",
    "\n",
    "# Lists of artists & genres\n",
    "GENRE_LIST = utils.text_parse_list(filepath=GENRES_FILE)\n",
    "if ARTIST_LIST == ['FROM_FILE']:\n",
    "    ARTIST_LIST = utils.text_parse_list(filepath=ARTISTS_FILE)\n",
    "else:\n",
    "    ARTIST_LIST = ARTIST_LIST\n",
    "ARTIST_COUNT = len(ARTIST_LIST)\n",
    "\n",
    "if ARTIST_COUNT < 2:\n",
    "    RECOMMEND_ARTISTS = False\n",
    "    GRAPH_RESULTS = GRAPH_RESULTS\n",
    "elif ARTIST_COUNT > 20:\n",
    "    RECOMMEND_ARTISTS = RECOMMEND_ARTISTS\n",
    "    GRAPH_RESULTS = False\n",
    "else:\n",
    "    RECOMMEND_ARTISTS = RECOMMEND_ARTISTS\n",
    "    GRAPH_RESULTS = GRAPH_RESULTS\n",
    "\n",
    "print(\"Artist count: {}\".format(ARTIST_COUNT))\n",
    "print(\"Recommend artists? {}\".format(RECOMMEND_ARTISTS))\n",
    "print(\"Graph results? {}\".format(GRAPH_RESULTS))\n",
    "\n",
    "# API token endpoint\n",
    "API_TOKEN = 'https://accounts.spotify.com/api/token'\n",
    "\n",
    "# API search endpoint\n",
    "API = 'https://api.spotify.com/v1/search?q='\n",
    "\n",
    "# API artist search route\n",
    "ROUTE = '&type=artist'\n",
    "\n",
    "# Header for df output\n",
    "HEADER = ['ARTIST_ID','ARTIST_NAME','SPOTIFY_URL','GENRES']"
   ]
  },
  {
   "cell_type": "markdown",
   "metadata": {},
   "source": [
    "#### Authenticate Spotify API credentials"
   ]
  },
  {
   "cell_type": "code",
   "execution_count": 5,
   "metadata": {},
   "outputs": [
    {
     "name": "stdout",
     "output_type": "stream",
     "text": [
      "Authenticating...\n",
      "SUCCESS: Authentication complete\n"
     ]
    }
   ],
   "source": [
    "print(\"Authenticating...\")\n",
    "# Retrieve Spotify Client ID & Secret\n",
    "CREDS = utils.text_parse_dict(\n",
    "    filepath=CREDS_FILE, \n",
    "    separator='='\n",
    ")\n",
    "CLIENT_ID = CREDS['CLIENT_ID']\n",
    "CLIENT_SECRET = CREDS['CLIENT_SECRET']\n",
    "\n",
    "# Define data dict for token request payload\n",
    "PAYLOAD_TOKEN = {'grant_type': 'client_credentials'}\n",
    "\n",
    "# Refresh Spotify API authentication token\n",
    "client_auth = requests.auth.HTTPBasicAuth(\n",
    "    CLIENT_ID, \n",
    "    CLIENT_SECRET\n",
    ")\n",
    "auth = requests.post(\n",
    "    url=API_TOKEN, \n",
    "    auth=client_auth,\n",
    "    data=PAYLOAD_TOKEN\n",
    ")\n",
    "token_json = auth.json()\n",
    "TOKEN = 'Bearer ' + str(token_json['access_token'])\n",
    "\n",
    "if auth.status_code == 200:\n",
    "    print(\"SUCCESS: Authentication complete\")\n",
    "else:\n",
    "    print(\"ERROR: Check client authentication credentials\")\n",
    "    exit()\n",
    "\n",
    "# Define params dict for search request parameters\n",
    "PARAMS = {\n",
    "    'Accept': 'application/json',\n",
    "    'Content-Type': 'application/json',\n",
    "    'Authorization': TOKEN\n",
    "}"
   ]
  },
  {
   "cell_type": "markdown",
   "metadata": {},
   "source": [
    "#### Retrieve artist info & save to dataframe"
   ]
  },
  {
   "cell_type": "code",
   "execution_count": 6,
   "metadata": {
    "scrolled": false
   },
   "outputs": [
    {
     "name": "stdout",
     "output_type": "stream",
     "text": [
      "Searching for artists...\n"
     ]
    },
    {
     "data": {
      "application/vnd.jupyter.widget-view+json": {
       "model_id": "3312192611c740ecb257d443eb2d1f6c",
       "version_major": 2,
       "version_minor": 0
      },
      "text/plain": [
       "HBox(children=(FloatProgress(value=0.0, max=3.0), HTML(value='')))"
      ]
     },
     "metadata": {},
     "output_type": "display_data"
    },
    {
     "name": "stdout",
     "output_type": "stream",
     "text": [
      "\n",
      "SUCCESS: Artist search complete\n"
     ]
    },
    {
     "data": {
      "text/html": [
       "<table border=\"1\" class=\"dataframe\">\n",
       "  <thead>\n",
       "    <tr style=\"text-align: right;\">\n",
       "      <th></th>\n",
       "      <th>ARTIST_ID</th>\n",
       "      <th>ARTIST_NAME</th>\n",
       "      <th>SPOTIFY_URL</th>\n",
       "      <th>GENRES</th>\n",
       "    </tr>\n",
       "  </thead>\n",
       "  <tbody>\n",
       "    <tr>\n",
       "      <th>0</th>\n",
       "      <td>0oSGxfWSnnOXhD2fKuz2Gy</td>\n",
       "      <td>David Bowie</td>\n",
       "      <td>https://open.spotify.com/artist/0oSGxfWSnnOXhD2fKuz2Gy</td>\n",
       "      <td>album rock,art rock,classic rock,dance rock,glam rock,permanent wave,protopunk,rock</td>\n",
       "    </tr>\n",
       "    <tr>\n",
       "      <th>1</th>\n",
       "      <td>3yY2gUcIsjMr8hjo51PoJ8</td>\n",
       "      <td>The Smiths</td>\n",
       "      <td>https://open.spotify.com/artist/3yY2gUcIsjMr8hjo51PoJ8</td>\n",
       "      <td>dance rock,madchester,new wave,permanent wave,rock,uk post-punk</td>\n",
       "    </tr>\n",
       "    <tr>\n",
       "      <th>2</th>\n",
       "      <td>7bu3H8JO7d0UbMoVzbo70s</td>\n",
       "      <td>The Cure</td>\n",
       "      <td>https://open.spotify.com/artist/7bu3H8JO7d0UbMoVzbo70s</td>\n",
       "      <td>dance rock,new romantic,new wave,permanent wave,rock</td>\n",
       "    </tr>\n",
       "  </tbody>\n",
       "</table>"
      ],
      "text/plain": [
       "<IPython.core.display.HTML object>"
      ]
     },
     "metadata": {},
     "output_type": "display_data"
    }
   ],
   "source": [
    "print(\"Searching for artists...\")\n",
    "\n",
    "artists_df = pd.DataFrame(columns = HEADER)\n",
    "artists_df_rows = len(artists_df)\n",
    "artist_count = 1\n",
    "artist_prog = int(ARTIST_COUNT / ARTIST_COUNT)\n",
    "with tqdm(total=ARTIST_COUNT) as pbar:\n",
    "    for a in ARTIST_LIST:\n",
    "        response = requests.get(url=API+str(a)+ROUTE, headers=PARAMS)\n",
    "        data = response.json()\n",
    "        data_dict = dict(data)\n",
    "        x = 0\n",
    "        # NOTE: Finds first instance of exact artist name match\n",
    "        while True:\n",
    "            try:\n",
    "                artist_name = str(data_dict['artists']['items'][x]['name'])\n",
    "                artist_id = str(data_dict['artists']['items'][x]['id'])\n",
    "                spotify_url = str(data_dict['artists']['items'][x]['external_urls']['spotify'])\n",
    "                genres = str(data_dict['artists']['items'][x]['genres'])\\\n",
    "                .replace(\"[\", \"\").replace(\"]\", \"\").replace(\"'\", \"\").replace(\", \", \",\")\n",
    "                artist_dict = {\n",
    "                    'ARTIST_ID': artist_id,\n",
    "                    'ARTIST_NAME': artist_name,\n",
    "                    'SPOTIFY_URL': spotify_url,\n",
    "                    'GENRES': genres\n",
    "                }\n",
    "                if artist_name == str(a):\n",
    "                    artists_df.loc[artists_df_rows] = artist_dict\n",
    "                    break\n",
    "                else:\n",
    "                    x = x+1\n",
    "            except IndexError:\n",
    "                print(\"ERROR: Artist {} not found\".format(a))\n",
    "                break\n",
    "        pbar.update(artist_prog)\n",
    "        artists_df_rows = len(artists_df)\n",
    "        artist_count = artist_count + 1\n",
    "    \n",
    "print(\"SUCCESS: Artist search complete\")\n",
    "display(HTML(artists_df.to_html()))"
   ]
  },
  {
   "cell_type": "markdown",
   "metadata": {},
   "source": [
    "#### Classify artists by Spotify genres, save to dataframe,  & plot Spotify genre county by artist"
   ]
  },
  {
   "cell_type": "code",
   "execution_count": 7,
   "metadata": {},
   "outputs": [
    {
     "name": "stdout",
     "output_type": "stream",
     "text": [
      "Classifying artists...\n"
     ]
    },
    {
     "data": {
      "application/vnd.jupyter.widget-view+json": {
       "model_id": "91a3eccc49f741ac91839a8a449a0514",
       "version_major": 2,
       "version_minor": 0
      },
      "text/plain": [
       "HBox(children=(FloatProgress(value=0.0, max=3.0), HTML(value='')))"
      ]
     },
     "metadata": {},
     "output_type": "display_data"
    },
    {
     "name": "stdout",
     "output_type": "stream",
     "text": [
      "\n",
      "SUCCESS: Artist classification complete\n"
     ]
    },
    {
     "data": {
      "text/html": [
       "<table border=\"1\" class=\"dataframe\">\n",
       "  <thead>\n",
       "    <tr style=\"text-align: right;\">\n",
       "      <th></th>\n",
       "      <th>ROCK</th>\n",
       "      <th>CLASSIC ROCK</th>\n",
       "      <th>ALBUM ROCK</th>\n",
       "      <th>PERMANENT WAVE</th>\n",
       "      <th>ART ROCK</th>\n",
       "      <th>DANCE ROCK</th>\n",
       "      <th>NEW WAVE</th>\n",
       "      <th>NEW ROMANTIC</th>\n",
       "      <th>GLAM ROCK</th>\n",
       "      <th>PUNK</th>\n",
       "      <th>PROTOPUNK</th>\n",
       "      <th>MADCHESTER</th>\n",
       "      <th>POST-PUNK</th>\n",
       "      <th>UK POST-PUNK</th>\n",
       "      <th>WAVE</th>\n",
       "    </tr>\n",
       "    <tr>\n",
       "      <th>ARTIST_NAME</th>\n",
       "      <th></th>\n",
       "      <th></th>\n",
       "      <th></th>\n",
       "      <th></th>\n",
       "      <th></th>\n",
       "      <th></th>\n",
       "      <th></th>\n",
       "      <th></th>\n",
       "      <th></th>\n",
       "      <th></th>\n",
       "      <th></th>\n",
       "      <th></th>\n",
       "      <th></th>\n",
       "      <th></th>\n",
       "      <th></th>\n",
       "    </tr>\n",
       "  </thead>\n",
       "  <tbody>\n",
       "    <tr>\n",
       "      <th>David Bowie</th>\n",
       "      <td>1</td>\n",
       "      <td>1</td>\n",
       "      <td>1</td>\n",
       "      <td>1</td>\n",
       "      <td>1</td>\n",
       "      <td>1</td>\n",
       "      <td>0</td>\n",
       "      <td>0</td>\n",
       "      <td>1</td>\n",
       "      <td>1</td>\n",
       "      <td>1</td>\n",
       "      <td>0</td>\n",
       "      <td>0</td>\n",
       "      <td>0</td>\n",
       "      <td>1</td>\n",
       "    </tr>\n",
       "    <tr>\n",
       "      <th>The Smiths</th>\n",
       "      <td>1</td>\n",
       "      <td>0</td>\n",
       "      <td>0</td>\n",
       "      <td>1</td>\n",
       "      <td>0</td>\n",
       "      <td>1</td>\n",
       "      <td>1</td>\n",
       "      <td>0</td>\n",
       "      <td>0</td>\n",
       "      <td>1</td>\n",
       "      <td>0</td>\n",
       "      <td>1</td>\n",
       "      <td>1</td>\n",
       "      <td>1</td>\n",
       "      <td>1</td>\n",
       "    </tr>\n",
       "    <tr>\n",
       "      <th>The Cure</th>\n",
       "      <td>1</td>\n",
       "      <td>0</td>\n",
       "      <td>0</td>\n",
       "      <td>1</td>\n",
       "      <td>0</td>\n",
       "      <td>1</td>\n",
       "      <td>1</td>\n",
       "      <td>1</td>\n",
       "      <td>0</td>\n",
       "      <td>0</td>\n",
       "      <td>0</td>\n",
       "      <td>0</td>\n",
       "      <td>0</td>\n",
       "      <td>0</td>\n",
       "      <td>1</td>\n",
       "    </tr>\n",
       "  </tbody>\n",
       "</table>"
      ],
      "text/plain": [
       "<IPython.core.display.HTML object>"
      ]
     },
     "metadata": {},
     "output_type": "display_data"
    },
    {
     "data": {
      "image/png": "[encoded data removed]",
      "text/plain": [
       "<Figure size 432x288 with 1 Axes>"
      ]
     },
     "metadata": {
      "needs_background": "light"
     },
     "output_type": "display_data"
    }
   ],
   "source": [
    "print(\"Classifying artists...\")\n",
    "\n",
    "genres_by_artist_df = pd.DataFrame(columns=['ARTIST_NAME'])\n",
    "artist_count = 1\n",
    "\n",
    "for g in GENRE_LIST:\n",
    "    genres_by_artist_df[str(g).upper()] = \"\"\n",
    "   \n",
    "artist_prog = int(ARTIST_COUNT / ARTIST_COUNT)\n",
    "with tqdm(total=ARTIST_COUNT) as pbar:\n",
    "    for r in range(0, artists_df_rows):\n",
    "        artist_name = artists_df.loc[r, 'ARTIST_NAME']\n",
    "        genres_by_artist_df.loc[r, 'ARTIST_NAME'] = artist_name\n",
    "        for g in GENRE_LIST:\n",
    "            g_name = str(g)\n",
    "            g_col = str(g).upper()\n",
    "            if g_name in artists_df.loc[r, 'GENRES']:\n",
    "                genres_by_artist_df.loc[r, g_col] = 1\n",
    "            else:\n",
    "                genres_by_artist_df.loc[r, g_col] = 0\n",
    "        pbar.update(artist_prog)\n",
    "        artist_count = artist_count + 1\n",
    "    genres_by_artist_df.set_index('ARTIST_NAME', inplace=True)\n",
    "\n",
    "# Drop any genre that contains no artists\n",
    "genres_by_artist_df_nz = genres_by_artist_df.loc[:, (genres_by_artist_df != 0).any(axis=0)]\n",
    "genre_cols = list(genres_by_artist_df_nz)\n",
    "\n",
    "print(\"SUCCESS: Artist classification complete\")\n",
    "display(HTML(genres_by_artist_df_nz.to_html()))\n",
    "\n",
    "if GRAPH_RESULTS == True:\n",
    "    artist_names = []\n",
    "    genre_counts = []\n",
    "\n",
    "    for a in reversed(ARTIST_LIST):\n",
    "        artist_names.append(a)\n",
    "        genre_sum = genres_by_artist_df_nz.loc[a].sum()\n",
    "        genre_counts.append(genre_sum)\n",
    "\n",
    "    plt.title(\"Spotify Genre Count by Artist\")\n",
    "    graph = plt.barh(artist_names, genre_counts)"
   ]
  },
  {
   "cell_type": "markdown",
   "metadata": {},
   "source": [
    "#### Analyze artist similarities by Spotify genre & plot recommendations by Spotify genre similarity"
   ]
  },
  {
   "cell_type": "code",
   "execution_count": 8,
   "metadata": {},
   "outputs": [
    {
     "name": "stdout",
     "output_type": "stream",
     "text": [
      "Preparing artist recommendations...\n"
     ]
    },
    {
     "data": {
      "application/vnd.jupyter.widget-view+json": {
       "model_id": "19660b207da64500bc6ba2e03cba339f",
       "version_major": 2,
       "version_minor": 0
      },
      "text/plain": [
       "HBox(children=(FloatProgress(value=0.0, max=3.0), HTML(value='')))"
      ]
     },
     "metadata": {},
     "output_type": "display_data"
    },
    {
     "name": "stdout",
     "output_type": "stream",
     "text": [
      "\n",
      "SUCCESS: Artist recommendations prepared\n"
     ]
    },
    {
     "data": {
      "text/html": [
       "<table border=\"1\" class=\"dataframe\">\n",
       "  <thead>\n",
       "    <tr style=\"text-align: right;\">\n",
       "      <th></th>\n",
       "      <th>ARTIST_NAME</th>\n",
       "      <th>ARTIST_REC</th>\n",
       "      <th>GENRE_SIMILARITY</th>\n",
       "    </tr>\n",
       "  </thead>\n",
       "  <tbody>\n",
       "    <tr>\n",
       "      <th>0</th>\n",
       "      <td>David Bowie</td>\n",
       "      <td>The Smiths</td>\n",
       "      <td>5</td>\n",
       "    </tr>\n",
       "    <tr>\n",
       "      <th>1</th>\n",
       "      <td>David Bowie</td>\n",
       "      <td>The Cure</td>\n",
       "      <td>4</td>\n",
       "    </tr>\n",
       "    <tr>\n",
       "      <th>2</th>\n",
       "      <td>The Smiths</td>\n",
       "      <td>David Bowie</td>\n",
       "      <td>5</td>\n",
       "    </tr>\n",
       "    <tr>\n",
       "      <th>3</th>\n",
       "      <td>The Smiths</td>\n",
       "      <td>The Cure</td>\n",
       "      <td>5</td>\n",
       "    </tr>\n",
       "    <tr>\n",
       "      <th>4</th>\n",
       "      <td>The Cure</td>\n",
       "      <td>David Bowie</td>\n",
       "      <td>4</td>\n",
       "    </tr>\n",
       "    <tr>\n",
       "      <th>5</th>\n",
       "      <td>The Cure</td>\n",
       "      <td>The Smiths</td>\n",
       "      <td>5</td>\n",
       "    </tr>\n",
       "  </tbody>\n",
       "</table>"
      ],
      "text/plain": [
       "<IPython.core.display.HTML object>"
      ]
     },
     "metadata": {},
     "output_type": "display_data"
    },
    {
     "data": {
      "image/png": "[encoded data removed]",
      "text/plain": [
       "<Figure size 432x288 with 1 Axes>"
      ]
     },
     "metadata": {
      "needs_background": "light"
     },
     "output_type": "display_data"
    },
    {
     "data": {
      "image/png": "[encoded data removed]",
      "text/plain": [
       "<Figure size 432x288 with 1 Axes>"
      ]
     },
     "metadata": {
      "needs_background": "light"
     },
     "output_type": "display_data"
    },
    {
     "data": {
      "image/png": "[encoded data removed]",
      "text/plain": [
       "<Figure size 432x288 with 1 Axes>"
      ]
     },
     "metadata": {
      "needs_background": "light"
     },
     "output_type": "display_data"
    }
   ],
   "source": [
    "if RECOMMEND_ARTISTS == True:\n",
    "    print(\"Preparing artist recommendations...\")\n",
    "\n",
    "    artist_recs_df = pd.DataFrame(columns=['ARTIST_NAME','ARTIST_REC', 'GENRE_SIMILARITY'])\n",
    "    artist_count = 1\n",
    "    row = 0\n",
    "\n",
    "    artist_prog = int(ARTIST_COUNT / ARTIST_COUNT)\n",
    "    with tqdm(total=ARTIST_COUNT) as pbar:\n",
    "        for a1 in ARTIST_LIST:\n",
    "            for a2 in ARTIST_LIST:\n",
    "                if a1 != a2:\n",
    "                    genre_count = 0\n",
    "                    artist_recs_df.loc[row, 'ARTIST_NAME'] = a1\n",
    "                    artist_recs_df.loc[row, 'ARTIST_REC'] = a2\n",
    "                    for g in genre_cols:\n",
    "                        a1_genre = genres_by_artist_df_nz.loc[a1, g]\n",
    "                        a2_genre = genres_by_artist_df_nz.loc[a2, g]\n",
    "                        if a1_genre == a2_genre == 1:\n",
    "                            genre_count = genre_count + 1\n",
    "                        else:\n",
    "                            genre_count = genre_count\n",
    "                        artist_recs_df.loc[row, 'GENRE_SIMILARITY'] = genre_count\n",
    "                    row = row + 1\n",
    "            #print(\"{}|{}\".format(artist_count, a1))\n",
    "            pbar.update(artist_prog)\n",
    "            artist_count = artist_count + 1\n",
    "\n",
    "    print(\"SUCCESS: Artist recommendations prepared\")\n",
    "    display(HTML(artist_recs_df.to_html())) \n",
    "    \n",
    "    if GRAPH_RESULTS == True:\n",
    "        for a in ARTIST_LIST:\n",
    "            try:\n",
    "                df_a = artist_recs_df[artist_recs_df.ARTIST_NAME==a]\n",
    "                df_a = df_a[df_a.GENRE_SIMILARITY > 0]\n",
    "                df_a = df_a.sort_values('GENRE_SIMILARITY', ascending=True)\n",
    "                df_a.plot.barh('ARTIST_REC', 'GENRE_SIMILARITY', title=a).set_ylabel(\"\")\n",
    "            except:\n",
    "                print(\"{}: 0 recommendations\".format(a))\n",
    "else:\n",
    "    print(\"Skipping artist recommendations\")\n",
    "    print(\"DONE\")"
   ]
  }
 ],
 "metadata": {
  "kernelspec": {
   "display_name": "Python 3",
   "language": "python",
   "name": "python3"
  },
  "language_info": {
   "codemirror_mode": {
    "name": "ipython",
    "version": 3
   },
   "file_extension": ".py",
   "mimetype": "text/x-python",
   "name": "python",
   "nbconvert_exporter": "python",
   "pygments_lexer": "ipython3",
   "version": "3.7.6"
  }
 },
 "nbformat": 4,
 "nbformat_minor": 4
}
