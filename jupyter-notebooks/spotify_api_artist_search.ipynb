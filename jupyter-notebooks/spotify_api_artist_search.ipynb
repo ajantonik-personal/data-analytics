{
 "cells": [
  {
   "cell_type": "markdown",
   "metadata": {},
   "source": [
    "## Spotify API Artist Search\n",
    "### This script calls the Spotify API, searches for artists, and stores their metadata (ID, name, URL, genres, etc.) in a dataframe for analysis\n",
    "### Author: @ajantonik-personal (Anthony J Antonik)\n",
    "### Date: 2020-04-25"
   ]
  },
  {
   "cell_type": "markdown",
   "metadata": {},
   "source": [
    "#### Import modules"
   ]
  },
  {
   "cell_type": "code",
   "execution_count": null,
   "metadata": {
    "scrolled": true
   },
   "outputs": [],
   "source": [
    "import csv\n",
    "import os\n",
    "\n",
    "import pandas as pd\n",
    "import requests.auth\n",
    "\n",
    "from IPython.display import display, HTML"
   ]
  },
  {
   "cell_type": "markdown",
   "metadata": {},
   "source": [
    "#### Specify utility functions"
   ]
  },
  {
   "cell_type": "code",
   "execution_count": null,
   "metadata": {},
   "outputs": [],
   "source": [
    "class Utils:\n",
    "    \n",
    "    def __init__(self):\n",
    "        self.return_dict = {}\n",
    "    \n",
    "    def text_parse_dict(self, filepath, separator):\n",
    "        \"\"\"\n",
    "        Function to parse lines of text from a file into a dictionary\n",
    "        :param filepath: path to text file to be parsed\n",
    "        :param separator: string separating keynames from values in text file\n",
    "        :return return_dict: dictionary of keys, values from text file\n",
    "        \"\"\"\n",
    "        self.return_dict = {}\n",
    "        with open(os.path.expanduser(filepath), \"r\") as filetoparse:\n",
    "            lines = filetoparse.readlines()\n",
    "            for line in lines:\n",
    "                line = line.split(separator)\n",
    "                self.return_dict[line[0].replace(\" \", \"\")] = (\n",
    "                    line[1].replace(\"\\n\", \"\").replace(\" \", \"\")\n",
    "                )\n",
    "        return self.return_dict"
   ]
  },
  {
   "cell_type": "markdown",
   "metadata": {},
   "source": [
    "#### Set constants & variables"
   ]
  },
  {
   "cell_type": "code",
   "execution_count": null,
   "metadata": {},
   "outputs": [],
   "source": [
    "# File containing spotify credentials\n",
    "CREDS_FILE = os.environ['SPOTIFY_CREDS_FILE']\n",
    "\n",
    "# List of Artists\n",
    "ARTIST_LIST = [\n",
    "    'Radiohead', \n",
    "    'Flying Lotus', \n",
    "    'Beyoncé', \n",
    "    'Arcade Fire', \n",
    "    'St. Vincent',\n",
    "    'LCD Soundsystem', \n",
    "    'Grouper', \n",
    "    'Nine Inch Nails', \n",
    "    'Father John Misty',\n",
    "    'David Byrne', \n",
    "    'The Cure', \n",
    "    'Typhoon', \n",
    "    'Robyn', \n",
    "    'Tyler, The Creator',\n",
    "    'Sunn 0)))', \n",
    "    'Godspeed You! Black Emperor', \n",
    "    'Mogwai', \n",
    "    'Portugal. The Man',\n",
    "    'Car Seat Headrest', \n",
    "    'Japandroids'\n",
    "]\n",
    "ARTIST_COUNT = len(ARTIST_LIST)\n",
    "print(\"Artists: {}\".format(ARTIST_COUNT))\n",
    "\n",
    "# API token endpoint\n",
    "API_TOKEN = 'https://accounts.spotify.com/api/token'\n",
    "\n",
    "# API search endpoint\n",
    "API = 'https://api.spotify.com/v1/search?q='\n",
    "\n",
    "# API artist search route\n",
    "ROUTE = '&type=artist'\n",
    "\n",
    "# Header for df output\n",
    "HEADER = ['ARTIST_ID','ARTIST_NAME','SPOTIFY_URL','GENRES']"
   ]
  },
  {
   "cell_type": "markdown",
   "metadata": {},
   "source": [
    "#### Authenticate Spotify API credentials"
   ]
  },
  {
   "cell_type": "code",
   "execution_count": null,
   "metadata": {},
   "outputs": [],
   "source": [
    "utils = Utils()\n",
    "\n",
    "# Retrieve Spotify Client ID & Secret\n",
    "CREDS = utils.text_parse_dict(\n",
    "    filepath=CREDS_FILE, \n",
    "    separator='='\n",
    ")\n",
    "CLIENT_ID = CREDS['CLIENT_ID']\n",
    "CLIENT_SECRET = CREDS['CLIENT_SECRET']\n",
    "\n",
    "# Define data dict for token request payload\n",
    "PAYLOAD_TOKEN = {'grant_type': 'client_credentials'}\n",
    "\n",
    "# Refresh Spotify API authentication token\n",
    "print(\"Authenticating...\")\n",
    "client_auth = requests.auth.HTTPBasicAuth(\n",
    "    CLIENT_ID, \n",
    "    CLIENT_SECRET\n",
    ")\n",
    "auth = requests.post(\n",
    "    url=API_TOKEN, \n",
    "    auth=client_auth,\n",
    "    data=PAYLOAD_TOKEN\n",
    ")\n",
    "token_json = auth.json()\n",
    "TOKEN = 'Bearer ' + str(token_json['access_token'])\n",
    "\n",
    "if auth.status_code == 200:\n",
    "    print(\"SUCCESS\")\n",
    "else:\n",
    "    print(\"ERROR: Check client authentication credentials.\")\n",
    "    exit()\n",
    "\n",
    "# Define params dict for search request parameters\n",
    "PARAMS = {\n",
    "    'Accept': 'application/json',\n",
    "    'Content-Type': 'application/json',\n",
    "    'Authorization': TOKEN\n",
    "}"
   ]
  },
  {
   "cell_type": "markdown",
   "metadata": {},
   "source": [
    "#### Retrieve artist info & save to dataframe"
   ]
  },
  {
   "cell_type": "code",
   "execution_count": null,
   "metadata": {
    "scrolled": false
   },
   "outputs": [],
   "source": [
    "print(\"Searching for artists...\")\n",
    "artists_df = pd.DataFrame(columns = HEADER)\n",
    "artists_df_rows = len(artists_df)\n",
    "artist_count = 1\n",
    "\n",
    "for a in ARTIST_LIST:\n",
    "    response = requests.get(url=API+str(a)+ROUTE, headers=PARAMS)\n",
    "    data = response.json()\n",
    "    data_dict = dict(data)\n",
    "    x = 0\n",
    "    print(\"{}|{}\".format(artist_count, a))\n",
    "    # NOTE: Finds first instance of exact artist name match\n",
    "    while True:\n",
    "        try:\n",
    "            artist_name = str(data_dict['artists']['items'][x]['name'])\n",
    "            artist_id = str(data_dict['artists']['items'][x]['id'])\n",
    "            spotify_url = str(data_dict['artists']['items'][x]['external_urls']['spotify'])\n",
    "            genres = str(data_dict['artists']['items'][x]['genres'])\n",
    "            artist_dict = {\n",
    "                'ARTIST_ID': artist_id,\n",
    "                'ARTIST_NAME': artist_name,\n",
    "                'SPOTIFY_URL': spotify_url,\n",
    "                'GENRES': genres\n",
    "            }\n",
    "            if artist_name == str(a):\n",
    "                artists_df.loc[artists_df_rows] = artist_dict\n",
    "                break\n",
    "            else:\n",
    "                x = x+1\n",
    "        except IndexError:\n",
    "            print(\"ERROR: Artist {} not found\".format(a))\n",
    "            break\n",
    "    artists_df_rows = len(artists_df)\n",
    "    artist_count = artist_count + 1\n",
    "    \n",
    "print(\"DONE\")\n",
    "display(HTML(artists_df.to_html()))"
   ]
  },
  {
   "cell_type": "code",
   "execution_count": null,
   "metadata": {},
   "outputs": [],
   "source": []
  }
 ],
 "metadata": {
  "kernelspec": {
   "display_name": "Python 3",
   "language": "python",
   "name": "python3"
  },
  "language_info": {
   "codemirror_mode": {
    "name": "ipython",
    "version": 3
   },
   "file_extension": ".py",
   "mimetype": "text/x-python",
   "name": "python",
   "nbconvert_exporter": "python",
   "pygments_lexer": "ipython3",
   "version": "3.7.6"
  }
 },
 "nbformat": 4,
 "nbformat_minor": 4
}
