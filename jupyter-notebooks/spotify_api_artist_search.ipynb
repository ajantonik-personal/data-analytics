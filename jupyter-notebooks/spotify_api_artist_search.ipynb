{
 "cells": [
  {
   "cell_type": "markdown",
   "metadata": {},
   "source": [
    "## Spotify API Artist Search\n",
    "### This script calls the Spotify API, searches for artists, classifies them by genre, and plots recommendations\n",
    "### Author: @ajantonik-personal (Anthony J Antonik)\n",
    "### Date: 2020-04-25"
   ]
  },
  {
   "cell_type": "markdown",
   "metadata": {},
   "source": [
    "#### Select list of artists to search for & whether to make recommendations"
   ]
  },
  {
   "cell_type": "code",
   "execution_count": null,
   "metadata": {},
   "outputs": [],
   "source": [
    "# Populate list with artists to search for\n",
    "# NOTE: Set to 'FROM_FILE' to generate list from .txt\n",
    "ARTIST_LIST = ['FROM_FILE']\n",
    "\n",
    "# Choose whether to analyze artist similarities and make recommendations\n",
    "# NOTE: Only set to True for 2 or more artists\n",
    "RECOMMEND_ARTISTS = True\n",
    "\n",
    "if ARTIST_LIST == ['FROM_FILE']:\n",
    "    ARTIST_LIST_STR = 'To be read from file'\n",
    "else:\n",
    "    ARTIST_LIST_STR = str(ARTIST_LIST).replace(\"[\", \"\").replace(\"]\", \"\")\n",
    "    if len(ARTIST_LIST) < 2:\n",
    "        RECOMMEND_ARTISTS = False\n",
    "    else:\n",
    "        RECOMMEND_ARTISTS = RECOMMEND_ARTISTS\n",
    "\n",
    "print(\"Artists: {}\".format(ARTIST_LIST_STR))\n",
    "print(\"Recommend artists? {}\".format(RECOMMEND_ARTISTS))"
   ]
  },
  {
   "cell_type": "markdown",
   "metadata": {},
   "source": [
    "#### Import modules"
   ]
  },
  {
   "cell_type": "code",
   "execution_count": null,
   "metadata": {
    "scrolled": true
   },
   "outputs": [],
   "source": [
    "print(\"Importing modules...\")\n",
    "\n",
    "import csv\n",
    "import os\n",
    "\n",
    "import pandas as pd\n",
    "import requests.auth\n",
    "import matplotlib.pyplot as plt\n",
    "\n",
    "from IPython.display import display, HTML\n",
    "from textwrap import wrap\n",
    "from tqdm.notebook import tqdm\n",
    "\n",
    "# Change global module settings\n",
    "pd.options.display.float_format = '{:.0f}'.format\n",
    "%matplotlib inline\n",
    "\n",
    "print(\"SUCCESS: Modules imported\")"
   ]
  },
  {
   "cell_type": "markdown",
   "metadata": {},
   "source": [
    "#### Specify utility functions"
   ]
  },
  {
   "cell_type": "code",
   "execution_count": null,
   "metadata": {},
   "outputs": [],
   "source": [
    "print(\"Initializing utility functions...\")\n",
    "\n",
    "class Utils:\n",
    "    \n",
    "    def __init__(self):\n",
    "        self.return_dict = {}\n",
    "        self.return_list = []\n",
    "    \n",
    "    def text_parse_dict(self, filepath, separator):\n",
    "        \"\"\"\n",
    "        Function to parse lines of text from a file into a dictionary\n",
    "        :param filepath: path to text file to be parsed\n",
    "        :param separator: string separating keynames from values in text file\n",
    "        :return return_dict: dictionary of keys, values from text file\n",
    "        \"\"\"\n",
    "        self.return_dict = {}\n",
    "        with open(os.path.expanduser(filepath), \"r\") as filetoparse:\n",
    "            lines = filetoparse.readlines()\n",
    "            for line in lines:\n",
    "                line = line.split(separator)\n",
    "                self.return_dict[line[0].replace(\" \", \"\")] = (\n",
    "                    line[1].replace(\"\\n\", \"\").replace(\" \", \"\")\n",
    "                )\n",
    "        return self.return_dict\n",
    "    \n",
    "    def text_parse_list(self, filepath):\n",
    "        \"\"\"\n",
    "        Function to parse lines of text from a file into a list\n",
    "        :param filepath: path to text file to be parsed\n",
    "        :return return_list: list of strings from text file\n",
    "        \"\"\"\n",
    "        with open(os.path.expanduser(filepath), \"r\") as filetoparse:\n",
    "            self.return_list = filetoparse.readlines()\n",
    "            for elem, clean in enumerate(self.return_list):\n",
    "                self.return_list[elem] = clean.replace(\"\\n\", \"\")\n",
    "        return self.return_list\n",
    "\n",
    "utils = Utils()\n",
    "\n",
    "print(\"SUCCESS: Initialized utility functions\")"
   ]
  },
  {
   "cell_type": "markdown",
   "metadata": {},
   "source": [
    "#### Set constants & variables"
   ]
  },
  {
   "cell_type": "code",
   "execution_count": null,
   "metadata": {},
   "outputs": [],
   "source": [
    "# Files containing spotify credentials, artists, & genres\n",
    "CREDS_FILE = os.environ['SPOTIFY_CREDS_FILE']\n",
    "GENRES_FILE = 'config/spotify_genres.txt'\n",
    "ARTISTS_FILE = 'config/spotify_artists.txt'\n",
    "\n",
    "# Lists of artists & genres\n",
    "GENRE_LIST = utils.text_parse_list(filepath=GENRES_FILE)\n",
    "if ARTIST_LIST == ['FROM_FILE']:\n",
    "    ARTIST_LIST = utils.text_parse_list(filepath=ARTISTS_FILE)\n",
    "else:\n",
    "    ARTIST_LIST = ARTIST_LIST\n",
    "ARTIST_COUNT = len(ARTIST_LIST)\n",
    "print(\"Artists: {}\".format(ARTIST_COUNT))\n",
    "\n",
    "# API token endpoint\n",
    "API_TOKEN = 'https://accounts.spotify.com/api/token'\n",
    "\n",
    "# API search endpoint\n",
    "API = 'https://api.spotify.com/v1/search?q='\n",
    "\n",
    "# API artist search route\n",
    "ROUTE = '&type=artist'\n",
    "\n",
    "# Header for df output\n",
    "HEADER = ['ARTIST_ID','ARTIST_NAME','SPOTIFY_URL','GENRES']"
   ]
  },
  {
   "cell_type": "markdown",
   "metadata": {},
   "source": [
    "#### Authenticate Spotify API credentials"
   ]
  },
  {
   "cell_type": "code",
   "execution_count": null,
   "metadata": {},
   "outputs": [],
   "source": [
    "print(\"Authenticating...\")\n",
    "# Retrieve Spotify Client ID & Secret\n",
    "CREDS = utils.text_parse_dict(\n",
    "    filepath=CREDS_FILE, \n",
    "    separator='='\n",
    ")\n",
    "CLIENT_ID = CREDS['CLIENT_ID']\n",
    "CLIENT_SECRET = CREDS['CLIENT_SECRET']\n",
    "\n",
    "# Define data dict for token request payload\n",
    "PAYLOAD_TOKEN = {'grant_type': 'client_credentials'}\n",
    "\n",
    "# Refresh Spotify API authentication token\n",
    "client_auth = requests.auth.HTTPBasicAuth(\n",
    "    CLIENT_ID, \n",
    "    CLIENT_SECRET\n",
    ")\n",
    "auth = requests.post(\n",
    "    url=API_TOKEN, \n",
    "    auth=client_auth,\n",
    "    data=PAYLOAD_TOKEN\n",
    ")\n",
    "token_json = auth.json()\n",
    "TOKEN = 'Bearer ' + str(token_json['access_token'])\n",
    "\n",
    "if auth.status_code == 200:\n",
    "    print(\"SUCCESS: Authentication complete\")\n",
    "else:\n",
    "    print(\"ERROR: Check client authentication credentials\")\n",
    "    exit()\n",
    "\n",
    "# Define params dict for search request parameters\n",
    "PARAMS = {\n",
    "    'Accept': 'application/json',\n",
    "    'Content-Type': 'application/json',\n",
    "    'Authorization': TOKEN\n",
    "}"
   ]
  },
  {
   "cell_type": "markdown",
   "metadata": {},
   "source": [
    "#### Retrieve artist info & save to dataframe"
   ]
  },
  {
   "cell_type": "code",
   "execution_count": null,
   "metadata": {
    "scrolled": false
   },
   "outputs": [],
   "source": [
    "print(\"Searching for artists...\")\n",
    "\n",
    "artists_df = pd.DataFrame(columns = HEADER)\n",
    "artists_df_rows = len(artists_df)\n",
    "artist_count = 1\n",
    "artist_prog = int(ARTIST_COUNT / ARTIST_COUNT)\n",
    "with tqdm(total=ARTIST_COUNT) as pbar:\n",
    "    for a in ARTIST_LIST:\n",
    "        response = requests.get(url=API+str(a)+ROUTE, headers=PARAMS)\n",
    "        data = response.json()\n",
    "        data_dict = dict(data)\n",
    "        x = 0\n",
    "        # NOTE: Finds first instance of exact artist name match\n",
    "        while True:\n",
    "            try:\n",
    "                artist_name = str(data_dict['artists']['items'][x]['name'])\n",
    "                artist_id = str(data_dict['artists']['items'][x]['id'])\n",
    "                spotify_url = str(data_dict['artists']['items'][x]['external_urls']['spotify'])\n",
    "                genres = str(data_dict['artists']['items'][x]['genres'])\\\n",
    "                .replace(\"[\", \"\").replace(\"]\", \"\").replace(\"'\", \"\").replace(\", \", \",\")\n",
    "                artist_dict = {\n",
    "                    'ARTIST_ID': artist_id,\n",
    "                    'ARTIST_NAME': artist_name,\n",
    "                    'SPOTIFY_URL': spotify_url,\n",
    "                    'GENRES': genres\n",
    "                }\n",
    "                if artist_name == str(a):\n",
    "                    artists_df.loc[artists_df_rows] = artist_dict\n",
    "                    break\n",
    "                else:\n",
    "                    x = x+1\n",
    "            except IndexError:\n",
    "                print(\"ERROR: Artist {} not found\".format(a))\n",
    "                break\n",
    "        pbar.update(artist_prog)\n",
    "        artists_df_rows = len(artists_df)\n",
    "        artist_count = artist_count + 1\n",
    "    \n",
    "print(\"SUCCESS: Artist search complete\")\n",
    "display(HTML(artists_df.to_html()))"
   ]
  },
  {
   "cell_type": "markdown",
   "metadata": {},
   "source": [
    "#### Classify artists by Spotify genres, save to dataframe,  & plot Spotify genre county by artist"
   ]
  },
  {
   "cell_type": "code",
   "execution_count": null,
   "metadata": {},
   "outputs": [],
   "source": [
    "print(\"Classifying artists...\")\n",
    "\n",
    "genres_by_artist_df = pd.DataFrame(columns=['ARTIST_NAME'])\n",
    "artist_count = 1\n",
    "\n",
    "for g in GENRE_LIST:\n",
    "    genres_by_artist_df[str(g).upper()] = \"\"\n",
    "   \n",
    "artist_prog = int(ARTIST_COUNT / ARTIST_COUNT)\n",
    "with tqdm(total=ARTIST_COUNT) as pbar:\n",
    "    for r in range(0, artists_df_rows):\n",
    "        artist_name = artists_df.loc[r, 'ARTIST_NAME']\n",
    "        genres_by_artist_df.loc[r, 'ARTIST_NAME'] = artist_name\n",
    "        for g in GENRE_LIST:\n",
    "            g_name = str(g)\n",
    "            g_col = str(g).upper()\n",
    "            if g_name in artists_df.loc[r, 'GENRES']:\n",
    "                genres_by_artist_df.loc[r, g_col] = 1\n",
    "            else:\n",
    "                genres_by_artist_df.loc[r, g_col] = 0\n",
    "        pbar.update(artist_prog)\n",
    "        artist_count = artist_count + 1\n",
    "    genres_by_artist_df.set_index('ARTIST_NAME', inplace=True)\n",
    "\n",
    "print(\"SUCCESS: Artist classification complete\")\n",
    "display(HTML(genres_by_artist_df.to_html()))\n",
    "\n",
    "artist_names = []\n",
    "genre_counts = []\n",
    "\n",
    "for a in reversed(ARTIST_LIST):\n",
    "    artist_names.append(a)\n",
    "    genre_sum = genres_by_artist_df.loc[a].sum()\n",
    "    genre_counts.append(genre_sum)\n",
    "    \n",
    "plt.title(\"Spotify Genre Count by Artist\")\n",
    "graph = plt.barh(artist_names, genre_counts)"
   ]
  },
  {
   "cell_type": "markdown",
   "metadata": {},
   "source": [
    "#### Analyze artist similarities by Spotify genre & plot recommendations by Spotify genre similarity"
   ]
  },
  {
   "cell_type": "code",
   "execution_count": null,
   "metadata": {},
   "outputs": [],
   "source": [
    "if RECOMMEND_ARTISTS == True:\n",
    "    print(\"Preparing artist recommendations...\")\n",
    "\n",
    "    # Drop any genre that contains no artists\n",
    "    genres_by_artist_df_nz = genres_by_artist_df.loc[:, (genres_by_artist_df != 0).any(axis=0)]\n",
    "    genre_cols = list(genres_by_artist_df_nz)\n",
    "\n",
    "    artist_recs_df = pd.DataFrame(columns=['ARTIST_NAME','ARTIST_REC', 'GENRE_SIMILARITY'])\n",
    "    artist_count = 1\n",
    "    row = 0\n",
    "\n",
    "    artist_prog = int(ARTIST_COUNT / ARTIST_COUNT)\n",
    "    with tqdm(total=ARTIST_COUNT) as pbar:\n",
    "        for a1 in ARTIST_LIST:\n",
    "            for a2 in ARTIST_LIST:\n",
    "                if a1 != a2:\n",
    "                    genre_count = 0\n",
    "                    artist_recs_df.loc[row, 'ARTIST_NAME'] = a1\n",
    "                    artist_recs_df.loc[row, 'ARTIST_REC'] = a2\n",
    "                    for g in genre_cols:\n",
    "                        a1_genre = genres_by_artist_df_nz.loc[a1, g]\n",
    "                        a2_genre = genres_by_artist_df_nz.loc[a2, g]\n",
    "                        if a1_genre == a2_genre == 1:\n",
    "                            genre_count = genre_count + 1\n",
    "                        else:\n",
    "                            genre_count = genre_count\n",
    "                        artist_recs_df.loc[row, 'GENRE_SIMILARITY'] = genre_count\n",
    "                    row = row + 1\n",
    "            #print(\"{}|{}\".format(artist_count, a1))\n",
    "            pbar.update(artist_prog)\n",
    "            artist_count = artist_count + 1\n",
    "\n",
    "    print(\"SUCCESS: Artist recommendations prepared\")\n",
    "    for a in ARTIST_LIST:\n",
    "        try:\n",
    "            df_a = artist_recs_df[artist_recs_df.ARTIST_NAME==a]\n",
    "            df_a = df_a[df_a.GENRE_SIMILARITY > 0]\n",
    "            df_a = df_a.sort_values('GENRE_SIMILARITY', ascending=True)\n",
    "            df_a.plot.barh('ARTIST_REC', 'GENRE_SIMILARITY', title=a).set_ylabel(\"\")\n",
    "        except:\n",
    "            print(\"{}: 0 recommendations\".format(a))\n",
    "    #display(HTML(artist_recs_df.to_html())) \n",
    "else:\n",
    "    print(\"Skipping artist recommendations\")\n",
    "    print(\"DONE\")"
   ]
  }
 ],
 "metadata": {
  "kernelspec": {
   "display_name": "Python 3",
   "language": "python",
   "name": "python3"
  },
  "language_info": {
   "codemirror_mode": {
    "name": "ipython",
    "version": 3
   },
   "file_extension": ".py",
   "mimetype": "text/x-python",
   "name": "python",
   "nbconvert_exporter": "python",
   "pygments_lexer": "ipython3",
   "version": "3.7.6"
  }
 },
 "nbformat": 4,
 "nbformat_minor": 4
}
